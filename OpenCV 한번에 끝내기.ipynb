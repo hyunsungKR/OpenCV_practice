{
 "cells": [
  {
   "cell_type": "code",
   "execution_count": 2,
   "metadata": {},
   "outputs": [],
   "source": [
    "# 영상처리(Image Processing)\n",
    "\n",
    "# - 입력받은 영상을 사용 목적에 맞게 적절하게 처리하여 보다 개선된 영상을 생성하는 것\n",
    "\n",
    "# - 입력 영상에 있는 잡음(noise) 제거, 영상의 대비(contrast) 개선, 관심영역(region of interest) 강조, 영역 분할(segmentation), 압축 및 저장 등\n",
    "\n",
    "# - 저수준 영상 처리(좁은 의미의 영상 처리)\n",
    "# -> 영상획득, 영상 향상, 영상 복원, 변환 처리, 영상 압축\n",
    "\n",
    "# - 고수준 영상 처리(컴퓨터 비전)\n",
    "# -> 영상 분할, 영상 표현, 영상 인식\n"
   ]
  },
  {
   "cell_type": "code",
   "execution_count": 3,
   "metadata": {},
   "outputs": [],
   "source": [
    "# 영상 처리의 역사\n",
    "\n",
    "# - 영상 처리의 시작\n",
    "# -> 1920년대 초반 런던과 뉴욕 간에 해저 케이블을 통한 신문사들이 사진 전송\n",
    "\n",
    "# - 본격적인 영상 처리 위한 기술\n",
    "# -> 1940년대 폰 노이만의 디지털 컴퓨터의 개념 시작\n",
    "# -> 1950년 이후 트랜지스터,IC,마이크로프로세서같은 하드웨어 발달\n",
    "# -> 1950~60년대 프로그램의 언어의 발달과 운영체제 등의 소프트웨어 기술 발달.\n",
    "\n",
    "# - 본격적인 영상 처리 시작\n",
    "# -> 우주 탐사 계획인 아폴로 계획과도 관련, 우주선에서 보낸 훼손된 영상의 복원 연구\n",
    "\n",
    "# - 1970년대 영상 처리 분야 더욱 발전\n",
    "# -> CT,MRI 등의 의료 분야\n",
    "# -> 원격 자원 탐사, 우주 항공 관련 분야\n",
    "\n",
    "# - 1990년대 컴퓨터 비전과 응용 분야 급속히 확장\n",
    "# -> 인터넷 시대에 영상검색, 영상전송, 영상광고\n",
    "# -> 디지털 방송 관련 컴퓨터 그래픽스, 디지털 카메라 보급(핸드폰)\n"
   ]
  },
  {
   "cell_type": "code",
   "execution_count": null,
   "metadata": {},
   "outputs": [],
   "source": []
  },
  {
   "cell_type": "code",
   "execution_count": null,
   "metadata": {},
   "outputs": [],
   "source": [
    "import numpy"
   ]
  },
  {
   "cell_type": "code",
   "execution_count": null,
   "metadata": {},
   "outputs": [],
   "source": []
  }
 ],
 "metadata": {
  "kernelspec": {
   "display_name": "ultralytics",
   "language": "python",
   "name": "python3"
  },
  "language_info": {
   "codemirror_mode": {
    "name": "ipython",
    "version": 3
   },
   "file_extension": ".py",
   "mimetype": "text/x-python",
   "name": "python",
   "nbconvert_exporter": "python",
   "pygments_lexer": "ipython3",
   "version": "3.10.12"
  }
 },
 "nbformat": 4,
 "nbformat_minor": 2
}
